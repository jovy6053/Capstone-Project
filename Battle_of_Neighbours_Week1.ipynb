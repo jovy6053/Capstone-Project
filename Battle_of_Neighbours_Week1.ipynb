{
 "cells": [
  {
   "cell_type": "markdown",
   "metadata": {},
   "source": [
    "<h1 style=\"color:blue;\">Battle of Neighbourhoods - Week 1</h1>"
   ]
  },
  {
   "cell_type": "markdown",
   "metadata": {},
   "source": [
    "<h2 style=\"color:red;\">Introduction/Business Problem</h2>"
   ]
  },
  {
   "cell_type": "markdown",
   "metadata": {},
   "source": [
    "<h3>This business problem performs a comparison of the two cities, i.e. Toronto and New York to determine how similar or dissimilar they are based on available amenities or services within the areas. This type of case or problem study was selected because it serves a lot of purposes other than selecting a place where to live or migrate.  Major target clients or stakeholders of this case or problem study are  (1) individuals or families who are planning or deciding to live or migrate to Toronto or New York City; (2) individuals who are planning or deciding to work or get employed in Toronto or New York City; (3) a company who plans or looking for a location to expand; and (4) Data Scientists or data analyst who wants to do analysis on using technologies like machine learning techniques or other data science tools.  The case study facilitates the review or analysis in coming up with a decision to select a particular place based on comparison.</h3>"
   ]
  },
  {
   "cell_type": "markdown",
   "metadata": {},
   "source": [
    "<h3>The problem statement is: Is Toronto more like New York City before a family decides to migrate to Toronto?  There are several factors to assess or compare places or cities like population, crime rate, cost of living, and others.  For this case study, it will leverage or focus on the Foursquare location and available data to explore or compare the Toronto and New York cities and/or their neighbourhoods.</h3>"
   ]
  },
  {
   "cell_type": "markdown",
   "metadata": {},
   "source": [
    "<h3>The major benefits of this business problem and its solution to clients or stakeholders are (1) improved decision making not only in migration issue, i.e. work movement, business expansion; and (2) Promote ability to use technologies like machine learning to build improved or better services.</h3>"
   ]
  },
  {
   "cell_type": "markdown",
   "metadata": {},
   "source": [
    "<h2 style=\"color:red;\">Major Data Description:</h2>"
   ]
  },
  {
   "cell_type": "markdown",
   "metadata": {},
   "source": [
    "<h3 style=\"color:green;\">1.\tData on postal codes of Toronto City, Canada</h3>\n",
    "<h3>Purpose: The postal codes will be used to get the equivalent latitude and longitude coordinates from existing/available geospatial data</h3>\n",
    "<h3>Source = https://en.wikipedia.org/wiki/List_of_postal_codes_of_Canada:_M</h3>\n",
    "<h3>Example: A matrix or table to generate the Toronto data on Borough, Neighbourhood, Latitude, Longitude, and/or other needed data</h3>"
   ]
  },
  {
   "cell_type": "markdown",
   "metadata": {},
   "source": [
    "<h3 style=\"color:green;\">2.\tData on geospatial data</h3>\n",
    "<h3>Purpose = serves as source data for getting the latitude and longitude coordinates</h3>\n",
    "<h3>Source = http://cocl.us/Geospatial_data</h3>\n",
    "<h3>Example: A csv file with postal code, latitude, and longitude</h3>"
   ]
  },
  {
   "cell_type": "markdown",
   "metadata": {},
   "source": [
    "<h3 style=\"color:green;\">3.\tData on latitude and longitude coordinates of New York City, USA</h3>\n",
    "<h3>Purpose: This is needed to create the dataframes with data on Borough, Neighbourhood, Latitude, Longitude, and/or other needed data.</h3>\n",
    "<h3>Source = https://cocl.us/new_york_dataset</h3>\n",
    "<h3>Example: A matrix or table to generate the New York data on Borough, Neighbourhood, Latitude, Longitude, and/or other needed data</h3>"
   ]
  },
  {
   "cell_type": "markdown",
   "metadata": {},
   "source": [
    "<h3 style=\"color:green;\">4.\tFoursquare application credentials’ Data</h3>\n",
    "<h3>Purpose: The application credentials will link an application to Foursquare API and are needed in order for Foursquare users to access the website.  The credential data are the Client ID and Client Secret.  The version is also needed.</h3>\n",
    "<h3>Source = https://www.foursquare.com</h3>\n",
    "<h3>Examples:\n",
    "CLIENT_ID = '<Foursquare generated client_id>’\n",
    "CLIENT_SECRET = '<Foursquare generated client_secret>' \n",
    "VERSION = '<Foursquare generated version number>\n",
    "</h3>"
   ]
  },
  {
   "cell_type": "markdown",
   "metadata": {},
   "source": [
    "<h3 style=\"color:green;\">5.\tFoursquare location data</h3>\n",
    "<h3>Purpose: a site where one can explore/get locations, venues,  webpages, users, and other relevant data/information</h3>\n",
    "<h3>Source: https://api.foursquare.com</h3>\n",
    "<h3>Examples: \n",
    "https://api.foursquare.com/v2/venues/explore?&client_id={}&client_secret={}&v={}&ll={},{}&radius={}&limit={}'.format(\n",
    "            CLIENT_ID, \n",
    "            CLIENT_SECRET, \n",
    "            VERSION, \n",
    "            lat, \n",
    "            lng, \n",
    "            radius, \n",
    "            LIMIT)\n",
    "May return foursquare data on latitude and longitude coordinates, venues, users, among others depending on the application being executed\n",
    "</h3>"
   ]
  },
  {
   "cell_type": "code",
   "execution_count": null,
   "metadata": {},
   "outputs": [],
   "source": []
  }
 ],
 "metadata": {
  "kernelspec": {
   "display_name": "Python 3",
   "language": "python",
   "name": "python3"
  },
  "language_info": {
   "codemirror_mode": {
    "name": "ipython",
    "version": 3
   },
   "file_extension": ".py",
   "mimetype": "text/x-python",
   "name": "python",
   "nbconvert_exporter": "python",
   "pygments_lexer": "ipython3",
   "version": "3.8.5"
  }
 },
 "nbformat": 4,
 "nbformat_minor": 4
}
